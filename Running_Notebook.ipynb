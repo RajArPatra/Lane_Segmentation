{
  "nbformat": 4,
  "nbformat_minor": 0,
  "metadata": {
    "colab": {
      "name": "Running_Notebook.ipynb",
      "provenance": [],
      "mount_file_id": "https://github.com/RajArPatra/Lane_Segmentation/blob/main/Running_Notebook.ipynb",
      "authorship_tag": "ABX9TyMJknn6g48GfI70N4I67osM",
      "include_colab_link": true
    },
    "kernelspec": {
      "name": "python3",
      "display_name": "Python 3"
    },
    "language_info": {
      "name": "python"
    },
    "accelerator": "GPU"
  },
  "cells": [
    {
      "cell_type": "markdown",
      "metadata": {
        "id": "view-in-github",
        "colab_type": "text"
      },
      "source": [
        "<a href=\"https://colab.research.google.com/github/RajArPatra/Lane_Segmentation/blob/main/Running_Notebook.ipynb\" target=\"_parent\"><img src=\"https://colab.research.google.com/assets/colab-badge.svg\" alt=\"Open In Colab\"/></a>"
      ]
    },
    {
      "cell_type": "code",
      "execution_count": 1,
      "metadata": {
        "id": "uSPPWLzdg9Gh",
        "outputId": "38486f5a-da5d-46e7-be76-7a5fd7a4dfb7",
        "colab": {
          "base_uri": "https://localhost:8080/"
        }
      },
      "outputs": [
        {
          "output_type": "stream",
          "name": "stdout",
          "text": [
            "Collecting wandb\n",
            "  Downloading wandb-0.12.9-py2.py3-none-any.whl (1.7 MB)\n",
            "\u001b[K     |████████████████████████████████| 1.7 MB 5.3 MB/s \n",
            "\u001b[?25hCollecting subprocess32>=3.5.3\n",
            "  Downloading subprocess32-3.5.4.tar.gz (97 kB)\n",
            "\u001b[K     |████████████████████████████████| 97 kB 6.9 MB/s \n",
            "\u001b[?25hRequirement already satisfied: psutil>=5.0.0 in /usr/local/lib/python3.7/dist-packages (from wandb) (5.4.8)\n",
            "Requirement already satisfied: python-dateutil>=2.6.1 in /usr/local/lib/python3.7/dist-packages (from wandb) (2.8.2)\n",
            "Collecting sentry-sdk>=1.0.0\n",
            "  Downloading sentry_sdk-1.5.1-py2.py3-none-any.whl (140 kB)\n",
            "\u001b[K     |████████████████████████████████| 140 kB 46.9 MB/s \n",
            "\u001b[?25hRequirement already satisfied: requests<3,>=2.0.0 in /usr/local/lib/python3.7/dist-packages (from wandb) (2.23.0)\n",
            "Collecting GitPython>=1.0.0\n",
            "  Downloading GitPython-3.1.25-py3-none-any.whl (180 kB)\n",
            "\u001b[K     |████████████████████████████████| 180 kB 45.5 MB/s \n",
            "\u001b[?25hRequirement already satisfied: PyYAML in /usr/local/lib/python3.7/dist-packages (from wandb) (3.13)\n",
            "Requirement already satisfied: Click!=8.0.0,>=7.0 in /usr/local/lib/python3.7/dist-packages (from wandb) (7.1.2)\n",
            "Requirement already satisfied: six>=1.13.0 in /usr/local/lib/python3.7/dist-packages (from wandb) (1.15.0)\n",
            "Collecting docker-pycreds>=0.4.0\n",
            "  Downloading docker_pycreds-0.4.0-py2.py3-none-any.whl (9.0 kB)\n",
            "Collecting yaspin>=1.0.0\n",
            "  Downloading yaspin-2.1.0-py3-none-any.whl (18 kB)\n",
            "Collecting configparser>=3.8.1\n",
            "  Downloading configparser-5.2.0-py3-none-any.whl (19 kB)\n",
            "Requirement already satisfied: protobuf>=3.12.0 in /usr/local/lib/python3.7/dist-packages (from wandb) (3.17.3)\n",
            "Requirement already satisfied: promise<3,>=2.0 in /usr/local/lib/python3.7/dist-packages (from wandb) (2.3)\n",
            "Collecting shortuuid>=0.5.0\n",
            "  Downloading shortuuid-1.0.8-py3-none-any.whl (9.5 kB)\n",
            "Collecting pathtools\n",
            "  Downloading pathtools-0.1.2.tar.gz (11 kB)\n",
            "Collecting gitdb<5,>=4.0.1\n",
            "  Downloading gitdb-4.0.9-py3-none-any.whl (63 kB)\n",
            "\u001b[K     |████████████████████████████████| 63 kB 1.9 MB/s \n",
            "\u001b[?25hRequirement already satisfied: typing-extensions>=3.7.4.3 in /usr/local/lib/python3.7/dist-packages (from GitPython>=1.0.0->wandb) (3.10.0.2)\n",
            "Collecting smmap<6,>=3.0.1\n",
            "  Downloading smmap-5.0.0-py3-none-any.whl (24 kB)\n",
            "Requirement already satisfied: certifi>=2017.4.17 in /usr/local/lib/python3.7/dist-packages (from requests<3,>=2.0.0->wandb) (2021.10.8)\n",
            "Requirement already satisfied: chardet<4,>=3.0.2 in /usr/local/lib/python3.7/dist-packages (from requests<3,>=2.0.0->wandb) (3.0.4)\n",
            "Requirement already satisfied: urllib3!=1.25.0,!=1.25.1,<1.26,>=1.21.1 in /usr/local/lib/python3.7/dist-packages (from requests<3,>=2.0.0->wandb) (1.24.3)\n",
            "Requirement already satisfied: idna<3,>=2.5 in /usr/local/lib/python3.7/dist-packages (from requests<3,>=2.0.0->wandb) (2.10)\n",
            "Requirement already satisfied: termcolor<2.0.0,>=1.1.0 in /usr/local/lib/python3.7/dist-packages (from yaspin>=1.0.0->wandb) (1.1.0)\n",
            "Building wheels for collected packages: subprocess32, pathtools\n",
            "  Building wheel for subprocess32 (setup.py) ... \u001b[?25l\u001b[?25hdone\n",
            "  Created wheel for subprocess32: filename=subprocess32-3.5.4-py3-none-any.whl size=6502 sha256=69a423d254432eb475b183058f3e0f0c3ffeab6f4680e8a383175f2d6b3ad2c1\n",
            "  Stored in directory: /root/.cache/pip/wheels/50/ca/fa/8fca8d246e64f19488d07567547ddec8eb084e8c0d7a59226a\n",
            "  Building wheel for pathtools (setup.py) ... \u001b[?25l\u001b[?25hdone\n",
            "  Created wheel for pathtools: filename=pathtools-0.1.2-py3-none-any.whl size=8807 sha256=fcee7919549e2ac97594929fa6c2fb49c58ffa8b0ff05ad262643f48b0150379\n",
            "  Stored in directory: /root/.cache/pip/wheels/3e/31/09/fa59cef12cdcfecc627b3d24273699f390e71828921b2cbba2\n",
            "Successfully built subprocess32 pathtools\n",
            "Installing collected packages: smmap, gitdb, yaspin, subprocess32, shortuuid, sentry-sdk, pathtools, GitPython, docker-pycreds, configparser, wandb\n",
            "Successfully installed GitPython-3.1.25 configparser-5.2.0 docker-pycreds-0.4.0 gitdb-4.0.9 pathtools-0.1.2 sentry-sdk-1.5.1 shortuuid-1.0.8 smmap-5.0.0 subprocess32-3.5.4 wandb-0.12.9 yaspin-2.1.0\n",
            "\u001b[34m\u001b[1mwandb\u001b[0m: You can find your API key in your browser here: https://wandb.ai/authorize\n",
            "\u001b[34m\u001b[1mwandb\u001b[0m: Paste an API key from your profile and hit enter, or press ctrl+c to quit: \n",
            "\u001b[34m\u001b[1mwandb\u001b[0m: Appending key for api.wandb.ai to your netrc file: /root/.netrc\n"
          ]
        }
      ],
      "source": [
        "!pip install wandb\n",
        "import wandb\n",
        "!wandb login"
      ]
    },
    {
      "cell_type": "code",
      "source": [
        "!git clone https://github.com/RajArPatra/Lane_Segmentation"
      ],
      "metadata": {
        "id": "ZwWozTy1hit6",
        "outputId": "a5370fa4-902b-46b5-dbeb-b2a00d3f4e52",
        "colab": {
          "base_uri": "https://localhost:8080/"
        }
      },
      "execution_count": 5,
      "outputs": [
        {
          "output_type": "stream",
          "name": "stdout",
          "text": [
            "Cloning into 'Lane_Segmentation'...\n",
            "remote: Enumerating objects: 125, done.\u001b[K\n",
            "remote: Counting objects: 100% (61/61), done.\u001b[K\n",
            "remote: Compressing objects: 100% (61/61), done.\u001b[K\n",
            "remote: Total 125 (delta 25), reused 12 (delta 0), pack-reused 64\u001b[K\n",
            "Receiving objects: 100% (125/125), 59.35 KiB | 2.70 MiB/s, done.\n",
            "Resolving deltas: 100% (45/45), done.\n"
          ]
        }
      ]
    },
    {
      "cell_type": "code",
      "source": [
        "%cd /content/Lane_Segmentation/Code"
      ],
      "metadata": {
        "id": "5QlEJvLEiFO_",
        "outputId": "29d98b46-48d8-4ca1-8273-2178c5107438",
        "colab": {
          "base_uri": "https://localhost:8080/"
        }
      },
      "execution_count": 6,
      "outputs": [
        {
          "output_type": "stream",
          "name": "stdout",
          "text": [
            "/content/Lane_Segmentation/Code\n"
          ]
        }
      ]
    },
    {
      "cell_type": "code",
      "source": [
        "!python train.py --dataset /content/drive/MyDrive/Datasets/Lane_Detection_dataset/training --save /content/Save --image /content/Output --epochs 5 --json post.json"
      ],
      "metadata": {
        "id": "dFWUCR77ic_j",
        "outputId": "ba7505c7-50a9-4e92-e6b1-fdd7b1786f5b",
        "colab": {
          "base_uri": "https://localhost:8080/"
        }
      },
      "execution_count": 4,
      "outputs": [
        {
          "output_type": "stream",
          "name": "stdout",
          "text": [
            "\u001b[34m\u001b[1mwandb\u001b[0m: Currently logged in as: \u001b[33mrajar1267\u001b[0m (use `wandb login --relogin` to force relogin)\n",
            "\u001b[34m\u001b[1mwandb\u001b[0m: Tracking run with wandb version 0.12.9\n",
            "\u001b[34m\u001b[1mwandb\u001b[0m: Syncing run \u001b[33mVGG_FCN_baseline\u001b[0m\n",
            "\u001b[34m\u001b[1mwandb\u001b[0m: ⭐️ View project at \u001b[34m\u001b[4mhttps://wandb.ai/rajar1267/Lane_Segmentation\u001b[0m\n",
            "\u001b[34m\u001b[1mwandb\u001b[0m: 🚀 View run at \u001b[34m\u001b[4mhttps://wandb.ai/rajar1267/Lane_Segmentation/runs/2sxc5cuc\u001b[0m\n",
            "\u001b[34m\u001b[1mwandb\u001b[0m: Run data is saved locally in /content/Lane_Segmentation/Code/wandb/run-20220107_192026-2sxc5cuc\n",
            "\u001b[34m\u001b[1mwandb\u001b[0m: Run `wandb offline` to turn off syncing.\n",
            "\n",
            "Starting Epoch....0\n",
            "Epoch 1 Step 5 |(5/23)| ETA: 5.69|Total:1.95648|Binary:0.26102|Instance:1.69546|IoU:0.00000\n",
            "Epoch 1 Step 10 |(10/23)| ETA: 6.50|Total:1.39471|Binary:0.18024|Instance:1.21447|IoU:0.00040\n",
            "Epoch 1 Step 15 |(15/23)| ETA: 5.49|Total:1.13979|Binary:0.14837|Instance:0.99142|IoU:0.03707\n",
            "Epoch 1 Step 20 |(20/23)| ETA: 6.37|Total:0.97726|Binary:0.12886|Instance:0.84840|IoU:0.22949\n",
            "Epoch 1 Validation Report | ETA: 6.61|Total:1.96942|Binary:0.11760|Instance:1.85182|IoU:0.00537\n",
            "Best IoU : 0.0053683676920239995\n",
            "Starting Epoch....1\n",
            "Epoch 2 Step 5 |(5/23)| ETA: 2.13|Total:0.42581|Binary:0.05639|Instance:0.36941|IoU:0.31989\n",
            "Epoch 2 Step 10 |(10/23)| ETA: 1.68|Total:0.39787|Binary:0.05792|Instance:0.33995|IoU:0.17992\n",
            "Epoch 2 Step 15 |(15/23)| ETA: 2.14|Total:0.40763|Binary:0.06085|Instance:0.34678|IoU:0.34433\n",
            "Epoch 2 Step 20 |(20/23)| ETA: 1.68|Total:0.37575|Binary:0.06016|Instance:0.31559|IoU:0.31517\n",
            "Epoch 2 Validation Report | ETA: 1.61|Total:0.98384|Binary:0.13970|Instance:0.84414|IoU:0.36279\n",
            "Best IoU : 0.36278781079568206\n",
            "Starting Epoch....2\n",
            "Epoch 3 Step 5 |(5/23)| ETA: 1.14|Total:0.33655|Binary:0.05776|Instance:0.27879|IoU:0.18218\n",
            "Epoch 3 Step 10 |(10/23)| ETA: 2.16|Total:0.34960|Binary:0.06089|Instance:0.28871|IoU:0.29062\n",
            "Epoch 3 Step 15 |(15/23)| ETA: 1.17|Total:0.32196|Binary:0.05849|Instance:0.26347|IoU:0.37482\n",
            "Epoch 3 Step 20 |(20/23)| ETA: 2.13|Total:0.30489|Binary:0.05661|Instance:0.24828|IoU:0.29527\n",
            "Epoch 3 Validation Report | ETA: 1.13|Total:1.00625|Binary:0.13241|Instance:0.87384|IoU:0.27895\n",
            "Best IoU : 0.36278781079568206\n",
            "Starting Epoch....3\n",
            "Epoch 4 Step 5 |(5/23)| ETA: 2.13|Total:0.34245|Binary:0.05896|Instance:0.28349|IoU:0.33494\n",
            "Epoch 4 Step 10 |(10/23)| ETA: 1.69|Total:0.28601|Binary:0.05494|Instance:0.23108|IoU:0.32418\n",
            "Epoch 4 Step 15 |(15/23)| ETA: 2.17|Total:0.26240|Binary:0.05296|Instance:0.20945|IoU:0.34482\n",
            "Epoch 4 Step 20 |(20/23)| ETA: 1.68|Total:0.25439|Binary:0.05272|Instance:0.20167|IoU:0.44513\n",
            "Epoch 4 Validation Report | ETA: 1.63|Total:0.87788|Binary:0.16181|Instance:0.71606|IoU:0.17732\n",
            "Best IoU : 0.36278781079568206\n",
            "Starting Epoch....4\n",
            "Epoch 5 Step 5 |(5/23)| ETA: 1.70|Total:0.21656|Binary:0.05043|Instance:0.16614|IoU:0.56346\n",
            "Epoch 5 Step 10 |(10/23)| ETA: 2.15|Total:0.19665|Binary:0.04793|Instance:0.14873|IoU:0.51471\n",
            "Epoch 5 Step 15 |(15/23)| ETA: 1.69|Total:0.18729|Binary:0.04616|Instance:0.14113|IoU:0.39302\n",
            "Epoch 5 Step 20 |(20/23)| ETA: 2.13|Total:0.18710|Binary:0.04725|Instance:0.13985|IoU:0.54189\n",
            "Epoch 5 Validation Report | ETA: 1.15|Total:0.91860|Binary:0.16192|Instance:0.75667|IoU:0.37353\n",
            "Best IoU : 0.3735321589095291\n",
            "Starting Epoch....5\n",
            "Epoch 6 Step 5 |(5/23)| ETA: 2.73|Total:0.15208|Binary:0.04375|Instance:0.10832|IoU:0.42635\n",
            "Epoch 6 Step 10 |(10/23)| ETA: 1.68|Total:0.16086|Binary:0.04730|Instance:0.11356|IoU:0.38913\n",
            "Epoch 6 Step 15 |(15/23)| ETA: 2.76|Total:0.16052|Binary:0.04555|Instance:0.11497|IoU:0.35616\n",
            "Epoch 6 Step 20 |(20/23)| ETA: 1.69|Total:0.15910|Binary:0.04484|Instance:0.11426|IoU:0.52815\n",
            "Epoch 6 Validation Report | ETA: 1.63|Total:0.90695|Binary:0.16090|Instance:0.74605|IoU:0.30159\n",
            "Best IoU : 0.3735321589095291\n",
            "Starting Epoch....6\n",
            "Epoch 7 Step 5 |(5/23)| ETA: 1.69|Total:0.14642|Binary:0.04685|Instance:0.09957|IoU:0.48211\n",
            "Epoch 7 Step 10 |(10/23)| ETA: 2.13|Total:0.14994|Binary:0.04390|Instance:0.10604|IoU:0.50865\n",
            "Epoch 7 Step 15 |(15/23)| ETA: 1.70|Total:0.15348|Binary:0.04318|Instance:0.11030|IoU:0.48340\n",
            "Epoch 7 Step 20 |(20/23)| ETA: 2.18|Total:0.15696|Binary:0.04351|Instance:0.11345|IoU:0.47507\n",
            "Epoch 7 Validation Report | ETA: 1.15|Total:1.02165|Binary:0.18416|Instance:0.83748|IoU:0.24948\n",
            "Best IoU : 0.3735321589095291\n",
            "Starting Epoch....7\n",
            "Epoch 8 Step 5 |(5/23)| ETA: 2.16|Total:0.12767|Binary:0.03909|Instance:0.08858|IoU:0.37883\n",
            "Epoch 8 Step 10 |(10/23)| ETA: 1.16|Total:0.13606|Binary:0.04118|Instance:0.09488|IoU:0.52824\n",
            "Epoch 8 Step 15 |(15/23)| ETA: 2.15|Total:0.14530|Binary:0.04355|Instance:0.10176|IoU:0.54366\n",
            "Epoch 8 Step 20 |(20/23)| ETA: 1.15|Total:0.14428|Binary:0.04356|Instance:0.10072|IoU:0.28913\n",
            "Epoch 8 Validation Report | ETA: 1.63|Total:0.98858|Binary:0.17073|Instance:0.81785|IoU:0.21660\n",
            "Best IoU : 0.3735321589095291\n",
            "Starting Epoch....8\n",
            "Epoch 9 Step 5 |(5/23)| ETA: 1.70|Total:0.10596|Binary:0.03908|Instance:0.06689|IoU:0.56727\n",
            "Epoch 9 Step 10 |(10/23)| ETA: 2.17|Total:0.11664|Binary:0.04159|Instance:0.07505|IoU:0.52553\n",
            "Traceback (most recent call last):\n",
            "  File \"train.py\", line 60, in <module>\n",
            "    main()\n",
            "  File \"train.py\", line 46, in main\n",
            "    train_iou = train(train_loader,model,optimizer,im_path,epoch)\n",
            "  File \"/content/Lane_Segmentation/Code/utils.py\", line 189, in train\n",
            "    if np.isnan(total_loss.item()) or np.isnan(binary_loss.item()) or np.isnan(instance_loss.item()):\n",
            "KeyboardInterrupt\n",
            "\n",
            "\u001b[34m\u001b[1mwandb\u001b[0m: Waiting for W&B process to finish, PID 350... (failed 255). Press ctrl-c to abort syncing.\n",
            "\u001b[34m\u001b[1mwandb\u001b[0m:                                                                                \n",
            "\u001b[34m\u001b[1mwandb\u001b[0m: Run history:\n",
            "\u001b[34m\u001b[1mwandb\u001b[0m:       Epoch ▁▂▃▄▅▆▇█\n",
            "\u001b[34m\u001b[1mwandb\u001b[0m:   Train IOU ▁▅▅▆▇▇██\n",
            "\u001b[34m\u001b[1mwandb\u001b[0m:   Valid IOU ▁█▆▄█▇▆▅\n",
            "\u001b[34m\u001b[1mwandb\u001b[0m: \n",
            "\u001b[34m\u001b[1mwandb\u001b[0m: Run summary:\n",
            "\u001b[34m\u001b[1mwandb\u001b[0m:       Epoch 7\n",
            "\u001b[34m\u001b[1mwandb\u001b[0m:   Train IOU 0.45842\n",
            "\u001b[34m\u001b[1mwandb\u001b[0m:   Valid IOU 0.2166\n",
            "\u001b[34m\u001b[1mwandb\u001b[0m: \n",
            "\u001b[34m\u001b[1mwandb\u001b[0m: Synced 5 W&B file(s), 0 media file(s), 0 artifact file(s) and 0 other file(s)\n",
            "\u001b[34m\u001b[1mwandb\u001b[0m: Synced \u001b[33mVGG_FCN_baseline\u001b[0m: \u001b[34mhttps://wandb.ai/rajar1267/Lane_Segmentation/runs/2sxc5cuc\u001b[0m\n",
            "\u001b[34m\u001b[1mwandb\u001b[0m: Find logs at: ./wandb/run-20220107_192026-2sxc5cuc/logs/debug.log\n",
            "\u001b[34m\u001b[1mwandb\u001b[0m: \n"
          ]
        }
      ]
    }
  ]
}